{
 "cells": [
  {
   "cell_type": "code",
   "execution_count": 5,
   "id": "4d3dca2d",
   "metadata": {},
   "outputs": [],
   "source": [
    "import MetaTrader5 as mt\n",
    "import pandas as pd\n",
    "import datetime\n",
    "import matplotlib as mp\n",
    "import yfinance as yf"
   ]
  },
  {
   "cell_type": "code",
   "execution_count": 6,
   "id": "a75db0ae",
   "metadata": {},
   "outputs": [
    {
     "data": {
      "text/plain": [
       "True"
      ]
     },
     "execution_count": 6,
     "metadata": {},
     "output_type": "execute_result"
    }
   ],
   "source": [
    "mt.initialize()"
   ]
  },
  {
   "cell_type": "code",
   "execution_count": 7,
   "id": "217220bd",
   "metadata": {},
   "outputs": [],
   "source": [
    "account_info = mt.account_info()"
   ]
  },
  {
   "cell_type": "code",
   "execution_count": 8,
   "id": "250986d3",
   "metadata": {},
   "outputs": [],
   "source": [
    "posicoes = mt.positions_get()"
   ]
  },
  {
   "cell_type": "code",
   "execution_count": 9,
   "id": "b8ce50c8",
   "metadata": {},
   "outputs": [
    {
     "name": "stdout",
     "output_type": "stream",
     "text": [
      "Empty DataFrame\n",
      "Columns: []\n",
      "Index: []\n"
     ]
    }
   ],
   "source": [
    "df_positions = pd.DataFrame(list(posicoes))\n",
    "print(df_positions)"
   ]
  },
  {
   "cell_type": "code",
   "execution_count": 1,
   "id": "6785a55a",
   "metadata": {},
   "outputs": [
    {
     "name": "stdout",
     "output_type": "stream",
     "text": [
      "Baixando dados para PETR4.SA...\n"
     ]
    },
    {
     "name": "stderr",
     "output_type": "stream",
     "text": [
      "C:\\Users\\jacks\\AppData\\Local\\Temp\\ipykernel_2224\\3089143.py:18: FutureWarning: YF.download() has changed argument auto_adjust default to True\n",
      "  data = yf.download(ticker, start=start_date.strftime(\"%Y-%m-%d\"), end=end_date.strftime(\"%Y-%m-%d\"))\n",
      "[*********************100%***********************]  1 of 1 completed\n",
      "C:\\Users\\jacks\\AppData\\Local\\Temp\\ipykernel_2224\\3089143.py:18: FutureWarning: YF.download() has changed argument auto_adjust default to True\n",
      "  data = yf.download(ticker, start=start_date.strftime(\"%Y-%m-%d\"), end=end_date.strftime(\"%Y-%m-%d\"))\n"
     ]
    },
    {
     "name": "stdout",
     "output_type": "stream",
     "text": [
      "Baixando dados para RAIZ4.SA...\n"
     ]
    },
    {
     "name": "stderr",
     "output_type": "stream",
     "text": [
      "[*********************100%***********************]  1 of 1 completed\n",
      "C:\\Users\\jacks\\AppData\\Local\\Temp\\ipykernel_2224\\3089143.py:18: FutureWarning: YF.download() has changed argument auto_adjust default to True\n",
      "  data = yf.download(ticker, start=start_date.strftime(\"%Y-%m-%d\"), end=end_date.strftime(\"%Y-%m-%d\"))\n"
     ]
    },
    {
     "name": "stdout",
     "output_type": "stream",
     "text": [
      "Baixando dados para GOAU4.SA...\n"
     ]
    },
    {
     "name": "stderr",
     "output_type": "stream",
     "text": [
      "[*********************100%***********************]  1 of 1 completed\n"
     ]
    }
   ],
   "source": [
    "import yfinance as yf\n",
    "import pandas as pd\n",
    "from datetime import datetime\n",
    "\n",
    "# Lista de tickers da B3 no formato do Yahoo Finance\n",
    "df_positions = ['PETR4.SA', 'RAIZ4.SA','GOAU4.SA']\n",
    "\n",
    "# Datas de início e fim (últimos 10 anos)\n",
    "end_date = datetime.today()\n",
    "start_date = end_date.replace(year=end_date.year - 10)\n",
    "\n",
    "# Dicionário para armazenar os DataFrames por ticker\n",
    "historical_data = {}\n",
    "\n",
    "# Loop pelos tickers\n",
    "for ticker in df_positions:\n",
    "    print(f\"Baixando dados para {ticker}...\")\n",
    "    data = yf.download(ticker, start=start_date.strftime(\"%Y-%m-%d\"), end=end_date.strftime(\"%Y-%m-%d\"))\n",
    "    \n",
    "    if not data.empty:\n",
    "        data[\"Ticker\"] = ticker  # adiciona uma coluna com o nome do ticker\n",
    "        historical_data[ticker] = data\n",
    "    else:\n",
    "        print(f\"Dados não encontrados para {ticker}.\")\n",
    "\n",
    "# Se quiser juntar tudo em um único DataFrame:\n",
    "df_all = pd.concat(historical_data.values(), axis=0)\n",
    "\n"
   ]
  },
  {
   "cell_type": "code",
   "execution_count": 2,
   "id": "71274b52",
   "metadata": {},
   "outputs": [],
   "source": [
    "df = df_all.reset_index()\n",
    "\n",
    "# 2. Renomeia colunas com multi-index (flattening)\n",
    "df.columns = ['_'.join(col).strip() if isinstance(col, tuple) else col for col in df.columns]\n",
    "\n",
    "# 3. Transforma em formato longo\n",
    "df_long = df.melt(id_vars='Date_', \n",
    "                  var_name='variable', \n",
    "                  value_name='value')\n",
    "\n",
    "# 4. Extrai o tipo de preço e o ticker da coluna \"variable\"\n",
    "df_long[['price_type', 'ticker']] = df_long['variable'].str.extract(r'(\\w+)_(.+)')\n",
    "\n",
    "# 5. Pivot para que cada tipo de preço vire uma coluna\n",
    "df_final = df_long.pivot_table(index=['Date_', 'ticker'],\n",
    "                               columns='price_type',\n",
    "                               values='value').reset_index()\n",
    "\n",
    "# 6. Renomeia a coluna Date_\n",
    "df_final = df_final.rename(columns={\"Date_\": \"date\"})\n",
    "\n",
    "# 7. Reorganiza colunas\n",
    "df_final = df_final[['date', 'ticker', 'Open', 'High', 'Low', 'Close', 'Volume']]\n",
    "\n",
    "\n"
   ]
  },
  {
   "cell_type": "code",
   "execution_count": 23,
   "id": "fa768955",
   "metadata": {},
   "outputs": [],
   "source": [
    "df_final.to_csv('dadosesperado.csv')"
   ]
  },
  {
   "cell_type": "code",
   "execution_count": null,
   "id": "53f31bcc",
   "metadata": {},
   "outputs": [
    {
     "data": {
      "text/plain": [
       "0.96"
      ]
     },
     "execution_count": 11,
     "metadata": {},
     "output_type": "execute_result"
    }
   ],
   "source": [
    "saldo = account_info.balance"
   ]
  },
  {
   "cell_type": "code",
   "execution_count": 30,
   "id": "abc6f3bc",
   "metadata": {},
   "outputs": [],
   "source": [
    "# Garante que a data está em datetime\n",
    "df_final['date'] = pd.to_datetime(df_final['date'])\n",
    "\n",
    "# Cria uma coluna de mês\n",
    "df_final['mes'] = df_final['date'].dt.to_period('M')\n",
    "\n",
    "# Pega o último preço de fechamento de cada mês por ticker\n",
    "df_mensal = df_final.groupby(['ticker', 'mes'])['Close'].last().reset_index()\n",
    "\n",
    "# Ordena\n",
    "df_mensal = df_mensal.sort_values(['ticker', 'mes'])\n",
    "\n",
    "# Calcula o retorno mensal por ticker\n",
    "df_mensal['retorno_mensal'] = df_mensal.groupby('ticker')['Close'].pct_change()\n",
    "\n",
    "# Calcula o retorno esperado mensal por ticker\n",
    "retornos_mensais = df_mensal.groupby('ticker')['retorno_mensal'].mean().reset_index()\n",
    "\n",
    "# Renomeia e converte para porcentagem\n",
    "retornos_mensais.columns = ['ticker', 'retorno_esperado_mensal']\n",
    "retornos_mensais['retorno_esperado_mensal'] *= 100\n",
    "\n",
    "# Exibe a tabela\n"
   ]
  }
 ],
 "metadata": {
  "kernelspec": {
   "display_name": "Python 3",
   "language": "python",
   "name": "python3"
  },
  "language_info": {
   "codemirror_mode": {
    "name": "ipython",
    "version": 3
   },
   "file_extension": ".py",
   "mimetype": "text/x-python",
   "name": "python",
   "nbconvert_exporter": "python",
   "pygments_lexer": "ipython3",
   "version": "3.13.3"
  }
 },
 "nbformat": 4,
 "nbformat_minor": 5
}
